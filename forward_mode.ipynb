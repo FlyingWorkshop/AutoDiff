{
 "cells": [
  {
   "cell_type": "markdown",
   "source": [
    "## Operator Overloading"
   ],
   "metadata": {
    "collapsed": false
   }
  },
  {
   "cell_type": "code",
   "execution_count": 8,
   "outputs": [],
   "source": [
    "class Variable:\n",
    "    def __init__(self, primal, tangent=0):\n",
    "        self.primal = primal\n",
    "        self.tangent = tangent\n",
    "\n",
    "    def __add__(self, other):\n",
    "        return Variable(self.primal + other.primal, self.tangent + other.tangent)"
   ],
   "metadata": {
    "collapsed": false,
    "ExecuteTime": {
     "start_time": "2023-03-31T21:41:11.237448Z",
     "end_time": "2023-03-31T21:41:11.260077Z"
    }
   }
  },
  {
   "cell_type": "code",
   "execution_count": 9,
   "outputs": [
    {
     "data": {
      "text/plain": "5"
     },
     "execution_count": 9,
     "metadata": {},
     "output_type": "execute_result"
    }
   ],
   "source": [
    "three = Variable(3)\n",
    "two = Variable(2)\n",
    "result = three + two\n",
    "result.primal"
   ],
   "metadata": {
    "collapsed": false,
    "ExecuteTime": {
     "start_time": "2023-03-31T21:41:11.258294Z",
     "end_time": "2023-03-31T21:41:11.288259Z"
    }
   }
  },
  {
   "cell_type": "markdown",
   "source": [
    "## Source Code Transformation"
   ],
   "metadata": {
    "collapsed": false
   }
  }
 ],
 "metadata": {
  "kernelspec": {
   "display_name": "Python 3",
   "language": "python",
   "name": "python3"
  },
  "language_info": {
   "codemirror_mode": {
    "name": "ipython",
    "version": 2
   },
   "file_extension": ".py",
   "mimetype": "text/x-python",
   "name": "python",
   "nbconvert_exporter": "python",
   "pygments_lexer": "ipython2",
   "version": "2.7.6"
  }
 },
 "nbformat": 4,
 "nbformat_minor": 0
}
